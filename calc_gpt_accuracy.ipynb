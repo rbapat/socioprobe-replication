{
 "cells": [
  {
   "cell_type": "code",
   "execution_count": null,
   "id": "d5a62d75",
   "metadata": {},
   "outputs": [],
   "source": [
    "import pandas as pd"
   ]
  },
  {
   "cell_type": "code",
   "execution_count": null,
   "id": "8521c775",
   "metadata": {
    "scrolled": true
   },
   "outputs": [],
   "source": [
    "DATA_DIR = '~/socioprobe-replication/data'\n",
    "DATA_NAME = 'facebook_wiki'\n",
    "\n",
    "gt_path = f'{DATA_DIR}/{DATA_NAME}_posts_clean.csv'\n",
    "gpt_path = f'./chat_gpt_annotations/gpt3_chatgpt_{DATA_NAME}_results_final.csv'\n",
    "human_path = f'./chat_gpt_annotations/human_{DATA_NAME}.csv'\n",
    "\n",
    "gt = pd.read_csv(gt_path)\n",
    "gpt = pd.read_csv(gpt_path).rename(columns={'post':'text', 'label':'chat_gpt_label'})\n",
    "human = pd.read_csv(human_path)"
   ]
  },
  {
   "cell_type": "code",
   "execution_count": null,
   "id": "20f095e5",
   "metadata": {},
   "outputs": [],
   "source": [
    "label_map = {'M':0, 'F':1, 'U':999}\n",
    "\n",
    "human['label_linus'] = human['label_linus'].map(label_map)\n",
    "human['label_fareya'] = human['label_fareya'].map(label_map)"
   ]
  },
  {
   "cell_type": "code",
   "execution_count": null,
   "id": "5ce14d83",
   "metadata": {},
   "outputs": [],
   "source": [
    "full = gt.merge(gpt, how = 'inner', on='text')[['text', 'label', 'gpt3_label', 'chat_label']]\n",
    "full = full.merge(human, how = 'inner', on='text')"
   ]
  },
  {
   "cell_type": "code",
   "execution_count": null,
   "id": "b9452907",
   "metadata": {},
   "outputs": [],
   "source": [
    "def compute_accuracy(df, comp_col1, comp_col2):\n",
    "    total = len(df)\n",
    "    print(f'Total: {total}')\n",
    "    \n",
    "    correct_gpt = len(df[df[comp_col1]==df['label']])\n",
    "    print(f'Correct {comp_col1}: {correct_gpt}')\n",
    "    \n",
    "    correct_chatgpt = len(df[df[comp_col2]==df['label']])\n",
    "    print(f'Correct {comp_col2}: {correct_chatgpt}')\n",
    "    \n",
    "    print(f'Accuracy of {comp_col1}: {round(correct_gpt/total * 100, 1)}')\n",
    "    print(f'Accuracy of {comp_col2}: {round(correct_chatgpt/total * 100, 1)}')"
   ]
  },
  {
   "cell_type": "code",
   "execution_count": null,
   "id": "16eb9576",
   "metadata": {
    "scrolled": true
   },
   "outputs": [],
   "source": [
    "full[['text', 'label', 'chat_label']]"
   ]
  },
  {
   "cell_type": "code",
   "execution_count": null,
   "id": "fe4832fe",
   "metadata": {},
   "outputs": [],
   "source": [
    "compute_accuracy(full, 'gpt3_label', 'chat_label')"
   ]
  },
  {
   "cell_type": "code",
   "execution_count": null,
   "id": "256f2015",
   "metadata": {},
   "outputs": [],
   "source": [
    "full_no_unknown = full[(full['gpt3_label']!= 999)]\n",
    "full_no_unknown = full[full['chat_label'] != 999]\n",
    "\n",
    "compute_accuracy(full_no_unknown, 'gpt3_label', 'chat_label')"
   ]
  },
  {
   "cell_type": "code",
   "execution_count": null,
   "id": "6993baeb",
   "metadata": {},
   "outputs": [],
   "source": [
    "compute_accuracy(full, 'label_linus', 'label_fareya')"
   ]
  },
  {
   "cell_type": "code",
   "execution_count": null,
   "id": "6de31891",
   "metadata": {},
   "outputs": [],
   "source": [
    "full_no_unknown = full[(full['label_linus']!= 999)]\n",
    "full_no_unknown = full[full['label_fareya'] != 999]"
   ]
  },
  {
   "cell_type": "code",
   "execution_count": null,
   "id": "31d6fae7",
   "metadata": {},
   "outputs": [],
   "source": [
    "compute_accuracy(full_no_unknown, 'label_linus', 'label_fareya')"
   ]
  },
  {
   "cell_type": "code",
   "execution_count": null,
   "id": "0756a199",
   "metadata": {},
   "outputs": [],
   "source": []
  }
 ],
 "metadata": {
  "kernelspec": {
   "display_name": "Python 3 (ipykernel)",
   "language": "python",
   "name": "python3"
  },
  "language_info": {
   "codemirror_mode": {
    "name": "ipython",
    "version": 3
   },
   "file_extension": ".py",
   "mimetype": "text/x-python",
   "name": "python",
   "nbconvert_exporter": "python",
   "pygments_lexer": "ipython3",
   "version": "3.8.12"
  }
 },
 "nbformat": 4,
 "nbformat_minor": 5
}
