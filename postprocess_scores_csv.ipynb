{
 "cells": [
  {
   "cell_type": "code",
   "execution_count": null,
   "id": "75dc0505",
   "metadata": {},
   "outputs": [],
   "source": [
    "import pandas as pd"
   ]
  },
  {
   "cell_type": "code",
   "execution_count": null,
   "id": "2d82b5d7",
   "metadata": {},
   "outputs": [],
   "source": [
    "base = './rtgender_results'\n",
    "model = 'roberta-base'\n",
    "congress = pd.read_csv(f'{base}/facebook_congress_posts_clean_{model}_results.csv')\n",
    "wiki = pd.read_csv(f'{base}/facebook_wiki_posts_clean_{model}_results.csv')\n",
    "fitoc = pd.read_csv(f'{base}/fitocracy_posts_clean_{model}_results.csv')\n",
    "reddit = pd.read_csv(f'{base}/reddit_posts_clean_{model}_results.csv')"
   ]
  },
  {
   "cell_type": "code",
   "execution_count": null,
   "id": "72d3aad0",
   "metadata": {},
   "outputs": [],
   "source": [
    "def combine_data(df1, df2, df3, df4):\n",
    "    first = pd.concat([df1, df2])\n",
    "    second = pd.concat([first, df3])\n",
    "    final = pd.concat([second, df4])\n",
    "    \n",
    "    return final"
   ]
  },
  {
   "cell_type": "code",
   "execution_count": null,
   "id": "2641a4a9",
   "metadata": {},
   "outputs": [],
   "source": [
    "def clean_cols(df):\n",
    "    df['data'] = df['data'].str.replace('data/', '', regex=False).str.replace('_posts_clean.csv', '',regex=False)\n",
    "    \n",
    "    model_map = {\n",
    "        'google/electra-base-discriminator':'ELECTRA', \n",
    "        'microsoft/deberta-base':'DeBERTa-base', \n",
    "        'roberta-base':'RoBERTa-base'\n",
    "    }\n",
    "    \n",
    "    df['model'] = df['model'].map(model_map)\n",
    "    \n",
    "    df['seed'] = df['seed'].map(lambda x: f'run{x+1}')\n",
    "    \n",
    "    df = df.rename(columns = {'data':'data_name'})\n",
    "    \n",
    "    return df"
   ]
  },
  {
   "cell_type": "code",
   "execution_count": null,
   "id": "34ce9355",
   "metadata": {},
   "outputs": [],
   "source": [
    "def pivot_data(df):\n",
    "    \n",
    "    # first, collapse score cols\n",
    "    df = df.melt(\n",
    "        id_vars=['data_name', 'model', 'layer', 'seed'], \n",
    "        value_vars = ['test_f1', 'test_mdl'], \n",
    "        var_name='score_type',\n",
    "        value_name='score'\n",
    "    )\n",
    "    \n",
    "    # convert the score type col to proper values\n",
    "    df['score_type'] = df['score_type'].map({'test_f1':'F1', 'test_mdl':'MDL'})\n",
    "    \n",
    "    # then, pivot scores into a separate col per rep\n",
    "    df = df.pivot(\n",
    "        index = ['data_name', 'model', 'layer', 'score_type'],\n",
    "        values = 'score',\n",
    "        columns = 'seed'\n",
    "    ).reset_index()\n",
    "    \n",
    "    return df"
   ]
  },
  {
   "cell_type": "code",
   "execution_count": null,
   "id": "c6e3893a",
   "metadata": {},
   "outputs": [],
   "source": [
    "def postprocess(df1, df2, df3, df4):\n",
    "    rtg_raw = combine_data(df1, df2, df3, df4)\n",
    "    rtg_clean = clean_cols(rtg_raw)\n",
    "    rtg_pivot = pivot_data(rtg_clean)\n",
    "    \n",
    "    return rtg_pivot "
   ]
  },
  {
   "cell_type": "code",
   "execution_count": null,
   "id": "8f8f6c3a",
   "metadata": {},
   "outputs": [],
   "source": [
    "df_all = postprocess(congress, wiki, fitoc, reddit)"
   ]
  },
  {
   "cell_type": "code",
   "execution_count": null,
   "id": "7cb4f835",
   "metadata": {},
   "outputs": [],
   "source": [
    "output_path = ''\n",
    "df_all.to_csv(output_path)"
   ]
  },
  {
   "cell_type": "code",
   "execution_count": null,
   "id": "fd878e85",
   "metadata": {},
   "outputs": [],
   "source": []
  }
 ],
 "metadata": {
  "kernelspec": {
   "display_name": "Python 3 (ipykernel)",
   "language": "python",
   "name": "python3"
  },
  "language_info": {
   "codemirror_mode": {
    "name": "ipython",
    "version": 3
   },
   "file_extension": ".py",
   "mimetype": "text/x-python",
   "name": "python",
   "nbconvert_exporter": "python",
   "pygments_lexer": "ipython3",
   "version": "3.7.10"
  }
 },
 "nbformat": 4,
 "nbformat_minor": 5
}
